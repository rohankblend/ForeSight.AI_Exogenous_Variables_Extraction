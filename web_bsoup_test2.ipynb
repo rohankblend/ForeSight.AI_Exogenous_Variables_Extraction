{
 "cells": [
  {
   "cell_type": "code",
   "execution_count": 1,
   "id": "8a6b7e56",
   "metadata": {},
   "outputs": [],
   "source": [
    "import requests\n",
    "from bs4 import BeautifulSoup"
   ]
  },
  {
   "cell_type": "code",
   "execution_count": 2,
   "id": "5bdaea69",
   "metadata": {},
   "outputs": [],
   "source": [
    "# scrape_url = \"https://www.nasdaq.com/market-activity/index/spx/historical\""
   ]
  },
  {
   "cell_type": "code",
   "execution_count": 91,
   "id": "e207cba4",
   "metadata": {},
   "outputs": [],
   "source": [
    "# scrape_url = \"https://www.nasdaq.com/market-activity/index/spx\""
   ]
  },
  {
   "cell_type": "code",
   "execution_count": 2,
   "id": "cb0c405c",
   "metadata": {},
   "outputs": [],
   "source": [
    "scrape_url = \"https://www.marketwatch.com/investing/index/spx\""
   ]
  },
  {
   "cell_type": "code",
   "execution_count": 3,
   "id": "095bfd71",
   "metadata": {},
   "outputs": [],
   "source": [
    "# header = {\n",
    "#     \"Accept\": \"application/json, text/plain, */*;\", \n",
    "#     \"Accept-Encoding\": \"gzip, deflate, br\", \n",
    "#     \"Accept-Language\": \"en-US,en;q=0.9\",\n",
    "#     \"Origin\": \"https://www.nasdaq.com\",\n",
    "#     \"Referer\": \"https://www.nasdaq.com/\",\n",
    "#     \"Sec-Ch-Ua\": '\"Not.A/Brand\";v=\"8\", \"Chromium\";v=\"114\", \"Microsoft Edge\";v=\"114\"',\n",
    "#     \"Sec-Ch-Ua-Mobile\": \"?0\",\n",
    "#     \"Sec-Ch-Ua-Platform\": \"Windows\",\n",
    "#     \"Sec-Fetch-Dest\": \"empty\",\n",
    "#     \"Sec-Fetch-Mode\": \"cors\",\n",
    "#     \"Sec-Fetch-Site\": \"same-site\",\n",
    "#     \"User-Agent\": \"Mozilla/5.0 (Windows NT 10.0; Win64; x64) AppleWebKit/537.36 (KHTML, like Gecko) Chrome/114.0.0.0 Safari/537.36 Edg/114.0.1823.51\"}\n"
   ]
  },
  {
   "cell_type": "code",
   "execution_count": 4,
   "id": "680ffe93",
   "metadata": {},
   "outputs": [],
   "source": [
    "# page = requests.get(scrape_url, headers=header)"
   ]
  },
  {
   "cell_type": "code",
   "execution_count": 5,
   "id": "aef40eaf",
   "metadata": {},
   "outputs": [],
   "source": [
    "page = requests.get(scrape_url)"
   ]
  },
  {
   "cell_type": "code",
   "execution_count": 6,
   "id": "c9e544ce",
   "metadata": {},
   "outputs": [
    {
     "data": {
      "text/plain": [
       "<Response [200]>"
      ]
     },
     "execution_count": 6,
     "metadata": {},
     "output_type": "execute_result"
    }
   ],
   "source": [
    "page"
   ]
  },
  {
   "cell_type": "code",
   "execution_count": 7,
   "id": "59928530",
   "metadata": {},
   "outputs": [],
   "source": [
    "# page.json"
   ]
  },
  {
   "cell_type": "code",
   "execution_count": 53,
   "id": "bf41ce22",
   "metadata": {},
   "outputs": [],
   "source": [
    "# soup = BeautifulSoup(page.text, 'html.parser')"
   ]
  },
  {
   "cell_type": "code",
   "execution_count": 8,
   "id": "f8457600",
   "metadata": {},
   "outputs": [],
   "source": [
    "soup = BeautifulSoup(page.content, 'html.parser')"
   ]
  },
  {
   "cell_type": "code",
   "execution_count": 10,
   "id": "943058b2",
   "metadata": {},
   "outputs": [],
   "source": [
    "# soup"
   ]
  },
  {
   "cell_type": "code",
   "execution_count": 46,
   "id": "172044f9",
   "metadata": {},
   "outputs": [],
   "source": [
    "# reviews = soup.find('span', {'class': 'symbol-page-header__pricing-price'})"
   ]
  },
  {
   "cell_type": "code",
   "execution_count": null,
   "id": "df973156",
   "metadata": {},
   "outputs": [],
   "source": [
    "# reviews = soup.find('div', {'class': 'jupiter22-quote-header__pricing-information-saleprice'})\n",
    "# reviews = soup.find('div', {'class': 'jupiter22-quote-header__pricing-information-price-change-wrapper'})\n",
    "# class=\"dialog-off-canvas-main-canvas\""
   ]
  },
  {
   "cell_type": "code",
   "execution_count": 74,
   "id": "d52c0351",
   "metadata": {},
   "outputs": [],
   "source": [
    "# reviews = soup.find('div', {'class': 'intraday__data'})"
   ]
  },
  {
   "cell_type": "code",
   "execution_count": 11,
   "id": "73adaa99",
   "metadata": {},
   "outputs": [],
   "source": [
    "reviews = soup.find('h2', {'class': 'intraday__price'})"
   ]
  },
  {
   "cell_type": "code",
   "execution_count": 12,
   "id": "d304d4c2",
   "metadata": {},
   "outputs": [
    {
     "data": {
      "text/plain": [
       "'\\n\\n4,455.59\\n'"
      ]
     },
     "execution_count": 12,
     "metadata": {},
     "output_type": "execute_result"
    }
   ],
   "source": [
    "reviews.text"
   ]
  },
  {
   "cell_type": "code",
   "execution_count": 13,
   "id": "08f4ceda",
   "metadata": {},
   "outputs": [
    {
     "data": {
      "text/plain": [
       "'4,455.59'"
      ]
     },
     "execution_count": 13,
     "metadata": {},
     "output_type": "execute_result"
    }
   ],
   "source": [
    "reviews.text.replace(\"\\n\", \"\")"
   ]
  },
  {
   "cell_type": "code",
   "execution_count": null,
   "id": "c81da323",
   "metadata": {},
   "outputs": [],
   "source": []
  }
 ],
 "metadata": {
  "kernelspec": {
   "display_name": "Python 3 (ipykernel)",
   "language": "python",
   "name": "python3"
  },
  "language_info": {
   "codemirror_mode": {
    "name": "ipython",
    "version": 3
   },
   "file_extension": ".py",
   "mimetype": "text/x-python",
   "name": "python",
   "nbconvert_exporter": "python",
   "pygments_lexer": "ipython3",
   "version": "3.9.12"
  }
 },
 "nbformat": 4,
 "nbformat_minor": 5
}
